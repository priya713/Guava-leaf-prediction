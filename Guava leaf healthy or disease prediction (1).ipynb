{
 "cells": [
  {
   "cell_type": "code",
   "execution_count": 29,
   "id": "72fca0a3",
   "metadata": {},
   "outputs": [],
   "source": [
    "import os\n",
    "import numpy as np\n",
    "import cv2\n",
    "import matplotlib.pyplot as plt\n",
    "import pickle\n",
    "import random\n",
    "from sklearn.model_selection import train_test_split\n",
    "from sklearn.svm import SVC"
   ]
  },
  {
   "cell_type": "code",
   "execution_count": 30,
   "id": "4c970101",
   "metadata": {},
   "outputs": [
    {
     "name": "stdout",
     "output_type": "stream",
     "text": [
      "32\n"
     ]
    }
   ],
   "source": [
    "dir= 'C:\\\\Users\\\\PRIYA\\\\Pictures\\\\leaf'\n",
    "categories=['diseased','healthy']\n",
    "data=[]\n",
    "for category in categories:\n",
    "    path=os.path.join(dir,category)\n",
    "    label=categories.index(category)\n",
    "    \n",
    "    for img in os.listdir(path):\n",
    "        imgpath=os.path.join(path,img)\n",
    "        leaf_img=cv2.imread(imgpath,0)\n",
    "        leaf_img=cv2.resize(leaf_img,(50,50))\n",
    "        image=np.array(leaf_img).flatten()\n",
    "        \n",
    "        data.append([image,label])\n",
    "print(len(data))\n",
    "pick_in=open('data1.pickle','wb')\n",
    "pickle.dump(data,pick_in)\n",
    "pick_in.close()        "
   ]
  },
  {
   "cell_type": "code",
   "execution_count": 33,
   "id": "23d90519",
   "metadata": {},
   "outputs": [
    {
     "name": "stdout",
     "output_type": "stream",
     "text": [
      "Accuracy:  1.0\n",
      "Prediction:  healthy\n"
     ]
    },
    {
     "data": {
      "image/png": "[encoded data removed]",
      "text/plain": [
       "<Figure size 640x480 with 1 Axes>"
      ]
     },
     "metadata": {},
     "output_type": "display_data"
    }
   ],
   "source": [
    "pick_in=open('data1.pickle','rb')\n",
    "data=pickle.load(pick_in)\n",
    "pick_in.close()\n",
    "\n",
    "random.shuffle(data)\n",
    "features=[]\n",
    "labels=[]\n",
    "\n",
    "for feature,label in data:\n",
    "    features.append(feature)\n",
    "    labels.append(label)\n",
    "    \n",
    "    \n",
    "xtrain,xtest,ytrain,ytest=train_test_split(features,labels,test_size=0.20)\n",
    "model= SVC(C=1,kernel='poly',gamma='auto')\n",
    "model.fit(xtrain, ytrain)\n",
    "\n",
    "pick= open('model.sav','rb')\n",
    "model=pickle.load(pick)\n",
    "pick.close()\n",
    "\n",
    "prediction= model.predict(xtest)\n",
    "accuracy= model.score(xtest,ytest)\n",
    "categories=['diseased','healthy']\n",
    "\n",
    "print('Accuracy: ',accuracy)\n",
    "\n",
    "print('Prediction: ',categories[prediction[0]])\n",
    "\n",
    "myleaf=xtest[0].reshape(50,50)\n",
    "plt.imshow(myleaf,cmap='gray')\n",
    "plt.show()"
   ]
  },
  {
   "cell_type": "code",
   "execution_count": null,
   "id": "c07ec518",
   "metadata": {},
   "outputs": [],
   "source": []
  }
 ],
 "metadata": {
  "kernelspec": {
   "display_name": "Python 3 (ipykernel)",
   "language": "python",
   "name": "python3"
  },
  "language_info": {
   "codemirror_mode": {
    "name": "ipython",
    "version": 3
   },
   "file_extension": ".py",
   "mimetype": "text/x-python",
   "name": "python",
   "nbconvert_exporter": "python",
   "pygments_lexer": "ipython3",
   "version": "3.9.13"
  }
 },
 "nbformat": 4,
 "nbformat_minor": 5
}
